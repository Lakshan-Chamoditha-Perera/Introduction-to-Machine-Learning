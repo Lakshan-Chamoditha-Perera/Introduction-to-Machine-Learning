{
 "cells": [
  {
   "cell_type": "code",
   "id": "initial_id",
   "metadata": {
    "collapsed": true,
    "ExecuteTime": {
     "end_time": "2024-06-22T04:08:16.546478Z",
     "start_time": "2024-06-22T04:08:16.540708Z"
    }
   },
   "source": [
    "import pandas as pd\n",
    "\n",
    "df = pd.DataFrame({\n",
    "    \"Name\": [\"John\", \"Rock\", \"Neil\", \"Tom\", \"John\", \"John\"],\n",
    "    \"Rank\": [1, 2, 3, 6, 1, 1],\n",
    "    \"Marks\": [98, 59, 97, 99, 98, 98]\n",
    "})"
   ],
   "outputs": [],
   "execution_count": 18
  },
  {
   "metadata": {
    "ExecuteTime": {
     "end_time": "2024-06-22T04:08:16.567427Z",
     "start_time": "2024-06-22T04:08:16.556052Z"
    }
   },
   "cell_type": "code",
   "source": [
    "# to get all the duplicates\n",
    "df.duplicated(keep=False)"
   ],
   "id": "f719911fb5153b5c",
   "outputs": [
    {
     "data": {
      "text/plain": [
       "0     True\n",
       "1    False\n",
       "2    False\n",
       "3    False\n",
       "4     True\n",
       "5     True\n",
       "dtype: bool"
      ]
     },
     "execution_count": 19,
     "metadata": {},
     "output_type": "execute_result"
    }
   ],
   "execution_count": 19
  },
  {
   "metadata": {
    "ExecuteTime": {
     "end_time": "2024-06-22T04:08:16.636034Z",
     "start_time": "2024-06-22T04:08:16.627096Z"
    }
   },
   "cell_type": "code",
   "source": [
    "# to get the duplicated number\n",
    "df.duplicated(keep=False).sum()"
   ],
   "id": "bf32d0ac24bf2f5a",
   "outputs": [
    {
     "data": {
      "text/plain": [
       "3"
      ]
     },
     "execution_count": 20,
     "metadata": {},
     "output_type": "execute_result"
    }
   ],
   "execution_count": 20
  },
  {
   "metadata": {
    "ExecuteTime": {
     "end_time": "2024-06-22T04:08:16.674996Z",
     "start_time": "2024-06-22T04:08:16.665263Z"
    }
   },
   "cell_type": "code",
   "source": [
    "# shift+tab to get the menu try and you ll know\n",
    "df.duplicated().sum()"
   ],
   "id": "57a58ceeba19de3",
   "outputs": [
    {
     "data": {
      "text/plain": [
       "2"
      ]
     },
     "execution_count": 21,
     "metadata": {},
     "output_type": "execute_result"
    }
   ],
   "execution_count": 21
  },
  {
   "metadata": {
    "ExecuteTime": {
     "end_time": "2024-06-22T04:08:16.716875Z",
     "start_time": "2024-06-22T04:08:16.701378Z"
    }
   },
   "cell_type": "code",
   "source": "df.loc[df.duplicated(keep=False)]",
   "id": "b94e12c75b36b094",
   "outputs": [
    {
     "data": {
      "text/plain": [
       "   Name  Rank  Marks\n",
       "0  John     1     98\n",
       "4  John     1     98\n",
       "5  John     1     98"
      ],
      "text/html": [
       "<div>\n",
       "<style scoped>\n",
       "    .dataframe tbody tr th:only-of-type {\n",
       "        vertical-align: middle;\n",
       "    }\n",
       "\n",
       "    .dataframe tbody tr th {\n",
       "        vertical-align: top;\n",
       "    }\n",
       "\n",
       "    .dataframe thead th {\n",
       "        text-align: right;\n",
       "    }\n",
       "</style>\n",
       "<table border=\"1\" class=\"dataframe\">\n",
       "  <thead>\n",
       "    <tr style=\"text-align: right;\">\n",
       "      <th></th>\n",
       "      <th>Name</th>\n",
       "      <th>Rank</th>\n",
       "      <th>Marks</th>\n",
       "    </tr>\n",
       "  </thead>\n",
       "  <tbody>\n",
       "    <tr>\n",
       "      <th>0</th>\n",
       "      <td>John</td>\n",
       "      <td>1</td>\n",
       "      <td>98</td>\n",
       "    </tr>\n",
       "    <tr>\n",
       "      <th>4</th>\n",
       "      <td>John</td>\n",
       "      <td>1</td>\n",
       "      <td>98</td>\n",
       "    </tr>\n",
       "    <tr>\n",
       "      <th>5</th>\n",
       "      <td>John</td>\n",
       "      <td>1</td>\n",
       "      <td>98</td>\n",
       "    </tr>\n",
       "  </tbody>\n",
       "</table>\n",
       "</div>"
      ]
     },
     "execution_count": 22,
     "metadata": {},
     "output_type": "execute_result"
    }
   ],
   "execution_count": 22
  },
  {
   "metadata": {
    "ExecuteTime": {
     "end_time": "2024-06-22T04:08:16.753762Z",
     "start_time": "2024-06-22T04:08:16.738734Z"
    }
   },
   "cell_type": "code",
   "source": [
    "# Corrected DataFrame creation\n",
    "df1 = pd.DataFrame([[1, 2], [4, 5], [7, 8]], index=['cobra', 'viper', 'sidewinder'], columns=['max_speed', 'shield'])\n",
    "\n",
    "# Drop duplicates except the first occurrence\n",
    "df1 = df1.drop_duplicates(keep='first')\n",
    "\n",
    "print(df1)\n"
   ],
   "id": "db4fb1415bbd02a2",
   "outputs": [
    {
     "name": "stdout",
     "output_type": "stream",
     "text": [
      "            max_speed  shield\n",
      "cobra               1       2\n",
      "viper               4       5\n",
      "sidewinder          7       8\n"
     ]
    }
   ],
   "execution_count": 23
  },
  {
   "metadata": {
    "ExecuteTime": {
     "end_time": "2024-06-22T04:08:16.851343Z",
     "start_time": "2024-06-22T04:08:16.837209Z"
    }
   },
   "cell_type": "code",
   "source": [
    "# changing the dataset by setting inplace true\n",
    "# default is false\n",
    "df.drop_duplicates(keep='first', inplace=True)\n",
    "print(df)"
   ],
   "id": "862773bbf3db6f4d",
   "outputs": [
    {
     "name": "stdout",
     "output_type": "stream",
     "text": [
      "   Name  Rank  Marks\n",
      "0  John     1     98\n",
      "1  Rock     2     59\n",
      "2  Neil     3     97\n",
      "3   Tom     6     99\n"
     ]
    }
   ],
   "execution_count": 24
  }
 ],
 "metadata": {
  "kernelspec": {
   "display_name": "Python 3",
   "language": "python",
   "name": "python3"
  },
  "language_info": {
   "codemirror_mode": {
    "name": "ipython",
    "version": 2
   },
   "file_extension": ".py",
   "mimetype": "text/x-python",
   "name": "python",
   "nbconvert_exporter": "python",
   "pygments_lexer": "ipython2",
   "version": "2.7.6"
  }
 },
 "nbformat": 4,
 "nbformat_minor": 5
}
