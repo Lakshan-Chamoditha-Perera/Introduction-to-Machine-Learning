{
 "cells": [
  {
   "cell_type": "code",
   "id": "initial_id",
   "metadata": {
    "collapsed": true,
    "ExecuteTime": {
     "end_time": "2024-06-22T05:00:46.206960Z",
     "start_time": "2024-06-22T05:00:46.131002Z"
    }
   },
   "source": [
    "import pandas as pd\n",
    "df_uci_adult = pd.read_csv(\"data/01  Handlining Duplicate Data_orders.csv\")\n",
    "df_uci_adult.duplicated(subset=[\"CustomerID\", \"OrderDate\", \"Amount\"])"
   ],
   "outputs": [
    {
     "data": {
      "text/plain": [
       "0    False\n",
       "1    False\n",
       "2    False\n",
       "3    False\n",
       "4     True\n",
       "5     True\n",
       "6     True\n",
       "7    False\n",
       "8    False\n",
       "9    False\n",
       "dtype: bool"
      ]
     },
     "execution_count": 72,
     "metadata": {},
     "output_type": "execute_result"
    }
   ],
   "execution_count": 72
  },
  {
   "metadata": {
    "ExecuteTime": {
     "end_time": "2024-06-22T05:00:46.250975Z",
     "start_time": "2024-06-22T05:00:46.210564Z"
    }
   },
   "cell_type": "code",
   "source": "df_uci_adult.shape",
   "id": "3575f52731b2a8ad",
   "outputs": [
    {
     "data": {
      "text/plain": [
       "(10, 4)"
      ]
     },
     "execution_count": 73,
     "metadata": {},
     "output_type": "execute_result"
    }
   ],
   "execution_count": 73
  },
  {
   "metadata": {
    "ExecuteTime": {
     "end_time": "2024-06-22T05:00:46.264161Z",
     "start_time": "2024-06-22T05:00:46.254072Z"
    }
   },
   "cell_type": "code",
   "source": [
    "# check for duplicates unique -> subset=[\"CustomerID\", \"OrderDate\", \"Amount\"]\n",
    "df_uci_adult.duplicated(subset=[\"CustomerID\", \"OrderDate\", \"Amount\"]).sum()"
   ],
   "id": "381c27260c742ca",
   "outputs": [
    {
     "data": {
      "text/plain": [
       "3"
      ]
     },
     "execution_count": 74,
     "metadata": {},
     "output_type": "execute_result"
    }
   ],
   "execution_count": 74
  },
  {
   "metadata": {
    "ExecuteTime": {
     "end_time": "2024-06-22T05:00:46.281999Z",
     "start_time": "2024-06-22T05:00:46.270956Z"
    }
   },
   "cell_type": "code",
   "source": [
    "#remove duplicates\n",
    "df_uci_adult.drop_duplicates(subset=[\"CustomerID\", \"OrderDate\", \"Amount\"], inplace=True, keep=\"first\")"
   ],
   "id": "60ce252a3101ce7b",
   "outputs": [],
   "execution_count": 75
  },
  {
   "metadata": {
    "ExecuteTime": {
     "end_time": "2024-06-22T05:00:46.299977Z",
     "start_time": "2024-06-22T05:00:46.286031Z"
    }
   },
   "cell_type": "code",
   "source": "df_uci_adult.duplicated(subset=[\"CustomerID\", \"OrderDate\", \"Amount\"])",
   "id": "12ba8a01a4c73e8a",
   "outputs": [
    {
     "data": {
      "text/plain": [
       "0    False\n",
       "1    False\n",
       "2    False\n",
       "3    False\n",
       "7    False\n",
       "8    False\n",
       "9    False\n",
       "dtype: bool"
      ]
     },
     "execution_count": 76,
     "metadata": {},
     "output_type": "execute_result"
    }
   ],
   "execution_count": 76
  },
  {
   "metadata": {
    "ExecuteTime": {
     "end_time": "2024-06-22T05:00:46.308832Z",
     "start_time": "2024-06-22T05:00:46.303139Z"
    }
   },
   "cell_type": "code",
   "source": "df_uci_adult.shape",
   "id": "1a6eef1b47c26b8e",
   "outputs": [
    {
     "data": {
      "text/plain": [
       "(7, 4)"
      ]
     },
     "execution_count": 77,
     "metadata": {},
     "output_type": "execute_result"
    }
   ],
   "execution_count": 77
  }
 ],
 "metadata": {
  "kernelspec": {
   "display_name": "Python 3",
   "language": "python",
   "name": "python3"
  },
  "language_info": {
   "codemirror_mode": {
    "name": "ipython",
    "version": 2
   },
   "file_extension": ".py",
   "mimetype": "text/x-python",
   "name": "python",
   "nbconvert_exporter": "python",
   "pygments_lexer": "ipython2",
   "version": "2.7.6"
  }
 },
 "nbformat": 4,
 "nbformat_minor": 5
}
