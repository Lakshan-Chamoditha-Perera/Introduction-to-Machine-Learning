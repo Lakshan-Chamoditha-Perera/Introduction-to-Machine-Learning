{
 "cells": [
  {
   "cell_type": "code",
   "id": "initial_id",
   "metadata": {
    "collapsed": true,
    "ExecuteTime": {
     "end_time": "2024-06-29T05:56:09.946553Z",
     "start_time": "2024-06-29T05:56:09.928037Z"
    }
   },
   "source": [
    "import pandas as pd\n",
    "\n",
    "df = pd.read_csv('data/train.csv');\n",
    "min_val = df['Age'].quantile(0.05)\n",
    "max_val = df['Age'].quantile(0.95)\n",
    "\n",
    "print(\"Minimum Percentile value:\", min_val)\n",
    "print(\"Maximum Percentile value:\", max_val)\n",
    "\n",
    "# Finding all the outliers\n",
    "outliers = df[(df['Age'] < min_val) | (df['Age'] > max_val)]\n",
    "print(outliers)\n"
   ],
   "outputs": [
    {
     "name": "stdout",
     "output_type": "stream",
     "text": [
      "Minimum Percentile value: 4.0\n",
      "Maximum Percentile value: 56.0\n",
      "     PassengerId  Survived  Pclass                                       Name  \\\n",
      "7              8         0       3             Palsson, Master. Gosta Leonard   \n",
      "11            12         1       1                   Bonnell, Miss. Elizabeth   \n",
      "16            17         0       3                       Rice, Master. Eugene   \n",
      "33            34         0       2                      Wheadon, Mr. Edward H   \n",
      "43            44         1       2   Laroche, Miss. Simonne Marie Anne Andree   \n",
      "..           ...       ...     ...                                        ...   \n",
      "824          825         0       3               Panula, Master. Urho Abraham   \n",
      "827          828         1       2                      Mallet, Master. Andre   \n",
      "829          830         1       1  Stone, Mrs. George Nelson (Martha Evelyn)   \n",
      "831          832         1       2            Richards, Master. George Sibley   \n",
      "851          852         0       3                        Svensson, Mr. Johan   \n",
      "\n",
      "        Sex    Age  SibSp  Parch           Ticket     Fare Cabin Embarked  \n",
      "7      male   2.00      3      1           349909  21.0750   NaN        S  \n",
      "11   female  58.00      0      0           113783  26.5500  C103        S  \n",
      "16     male   2.00      4      1           382652  29.1250   NaN        Q  \n",
      "33     male  66.00      0      0       C.A. 24579  10.5000   NaN        S  \n",
      "43   female   3.00      1      2    SC/Paris 2123  41.5792   NaN        C  \n",
      "..      ...    ...    ...    ...              ...      ...   ...      ...  \n",
      "824    male   2.00      4      1          3101295  39.6875   NaN        S  \n",
      "827    male   1.00      0      2  S.C./PARIS 2079  37.0042   NaN        C  \n",
      "829  female  62.00      0      0           113572  80.0000   B28      NaN  \n",
      "831    male   0.83      1      1            29106  18.7500   NaN        S  \n",
      "851    male  74.00      0      0           347060   7.7750   NaN        S  \n",
      "\n",
      "[65 rows x 12 columns]\n"
     ]
    }
   ],
   "execution_count": 6
  },
  {
   "metadata": {
    "ExecuteTime": {
     "end_time": "2024-06-29T05:57:02.466993Z",
     "start_time": "2024-06-29T05:57:02.331942Z"
    }
   },
   "cell_type": "code",
   "source": "df.boxplot(['Age'])",
   "id": "5beb27e718c2d22b",
   "outputs": [
    {
     "data": {
      "text/plain": [
       "<Axes: >"
      ]
     },
     "execution_count": 8,
     "metadata": {},
     "output_type": "execute_result"
    },
    {
     "data": {
      "text/plain": [
       "<Figure size 640x480 with 1 Axes>"
      ],
      "image/png": "[encoded data removed]"
     },
     "metadata": {},
     "output_type": "display_data"
    }
   ],
   "execution_count": 8
  },
  {
   "metadata": {},
   "cell_type": "code",
   "outputs": [],
   "execution_count": null,
   "source": "",
   "id": "a4bf04ab052adfa8"
  }
 ],
 "metadata": {
  "kernelspec": {
   "display_name": "Python 3",
   "language": "python",
   "name": "python3"
  },
  "language_info": {
   "codemirror_mode": {
    "name": "ipython",
    "version": 2
   },
   "file_extension": ".py",
   "mimetype": "text/x-python",
   "name": "python",
   "nbconvert_exporter": "python",
   "pygments_lexer": "ipython2",
   "version": "2.7.6"
  }
 },
 "nbformat": 4,
 "nbformat_minor": 5
}
